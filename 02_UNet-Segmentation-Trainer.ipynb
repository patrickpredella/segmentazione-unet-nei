{
 "cells": [
  {
   "cell_type": "markdown",
   "metadata": {},
   "source": [
    "# UNET SEGMENTATION TRAINER"
   ]
  },
  {
   "cell_type": "markdown",
   "metadata": {},
   "source": [
    "## Architecture\n",
    "\n",
    "<img src=\"images/u-net-architecture.png\"/>\n",
    "\n",
    "<h3>Our UNet Architecture</h3>\n",
    "<ol>\n",
    "    <li>Contracting/Downsampling Path</li>\n",
    "    <li>Bottleneck</li>\n",
    "    <li>Expanding/Upsampling Path</li>\n",
    "</ol>\n",
    "\n",
    "<h3>Downsampling Path: </h3> \n",
    "<ol>\n",
    "    <li>3x3 convolutions + (ReLU)</li> \n",
    "    <li>3x3 convolutions + (ReLU)</li>\n",
    "    <li>2x2 max pooling + 2px padding (to mantain image size)</li>\n",
    "    <li>At each downsampling step we double the number of feature channels.</li>\n",
    "</ol>\n",
    "\n",
    "<h3>Upsampling Path: </h3> \n",
    "<ol>\n",
    "    <li>2x2 up-convolution + 2px padding (to mantain image size)</li>\n",
    "    <li>concatenate with same level filters</li>\n",
    "    <li>3x3 convolutions + (ReLU)</li> \n",
    "    <li>3x3 convolutions + (ReLU)</li>\n",
    "</ol>\n",
    "\n",
    "<h3> Final Layer: </h3>\n",
    "<ol>\n",
    "    <li>1x1 convolution</li>\n",
    "</ol>"
   ]
  },
  {
   "cell_type": "markdown",
   "metadata": {},
   "source": [
    "## Imports"
   ]
  },
  {
   "cell_type": "code",
   "execution_count": null,
   "metadata": {},
   "outputs": [],
   "source": [
    "import os\n",
    "import sys\n",
    "import random\n",
    "\n",
    "import numpy as np\n",
    "import cv2\n",
    "import matplotlib.pyplot as plt\n",
    "\n",
    "import tensorflow as tf\n",
    "from tensorflow import keras\n",
    "\n",
    "## Seeding \n",
    "seed = 2019\n",
    "random.seed = seed\n",
    "np.random.seed = seed\n",
    "tf.seed = seed\n",
    "\n",
    "from tensorflow.python.client import device_lib\n",
    "\n",
    "def get_available_gpus():\n",
    "    local_device_protos = device_lib.list_local_devices()\n",
    "    return [x.name for x in local_device_protos if x.device_type == 'GPU']\n",
    "\n",
    "get_available_gpus()"
   ]
  },
  {
   "cell_type": "markdown",
   "metadata": {},
   "source": [
    "## Define image randomizer"
   ]
  },
  {
   "cell_type": "code",
   "execution_count": null,
   "metadata": {},
   "outputs": [],
   "source": [
    "def preprocess_for_train(image):\n",
    "    \n",
    "    # Random contrast\n",
    "    lab = cv2.cvtColor(image, cv2.COLOR_RGB2LAB)\n",
    "    l, a, b = cv2.split(lab)\n",
    "    clahe = cv2.createCLAHE(clipLimit=random.uniform(1,3), tileGridSize=(4,4))\n",
    "    cl = clahe.apply(l)\n",
    "    limg = cv2.merge((cl,a,b))\n",
    "    distorted_image = cv2.cvtColor(limg, cv2.COLOR_LAB2RGB)\n",
    "\n",
    "    return distorted_image"
   ]
  },
  {
   "cell_type": "markdown",
   "metadata": {},
   "source": [
    "## Data Generator"
   ]
  },
  {
   "cell_type": "code",
   "execution_count": null,
   "metadata": {},
   "outputs": [],
   "source": [
    "class DataGen(keras.utils.Sequence):\n",
    "    def __init__(self, ids, path, path2, batch_size=8, image_size=128):\n",
    "        self.ids = ids\n",
    "        self.path = path\n",
    "        self.path2 = path2\n",
    "        self.batch_size = batch_size\n",
    "        self.image_size = image_size\n",
    "        self.on_epoch_end()\n",
    "        \n",
    "    def __load__(self, id_name):\n",
    "        ## Path\n",
    "        \n",
    "        image_path = os.path.join(self.path, id_name)\n",
    "\n",
    "        mask_path = os.path.join(self.path2, id_name[:-4] + \"_segmentation.png\")\n",
    "        \n",
    "        ## Reading Images\n",
    "        image = cv2.imread(image_path)\n",
    "        image = cv2.cvtColor(image, cv2.COLOR_BGR2RGB)\n",
    "        image = cv2.resize(image, (self.image_size, self.image_size))\n",
    "        image = preprocess_for_train(image)\n",
    "        \n",
    "        ## Reading Masks\n",
    "        mask = cv2.imread(mask_path, -1)\n",
    "        mask = cv2.resize(mask, (self.image_size, self.image_size))\n",
    "        mask = np.expand_dims(mask, axis=-1)\n",
    "        mask = np.maximum(mask, mask)\n",
    "        \n",
    "        ## Normalizaing \n",
    "        image = image/255.0\n",
    "        mask = mask/255.0\n",
    "        \n",
    "        return image, mask\n",
    "    \n",
    "    def __getitem__(self, index):\n",
    "        if(index+1)*self.batch_size > len(self.ids):\n",
    "            self.batch_size = len(self.ids) - index*self.batch_size\n",
    "        \n",
    "        files_batch = self.ids[index*self.batch_size : (index+1)*self.batch_size]\n",
    "        \n",
    "        image = []\n",
    "        mask  = []\n",
    "        \n",
    "        for id_name in files_batch:\n",
    "            _img, _mask = self.__load__(id_name)\n",
    "            image.append(_img)\n",
    "            mask.append(_mask)\n",
    "            \n",
    "        image = np.array(image)\n",
    "        mask  = np.array(mask)\n",
    "        \n",
    "        return image, mask\n",
    "    \n",
    "    def __getitemname__(self, index):\n",
    "        if(index+1)*self.batch_size > len(self.ids):\n",
    "            self.batch_size = len(self.ids) - index*self.batch_size\n",
    "        \n",
    "        files_batch = self.ids[index*self.batch_size : (index+1)*self.batch_size]\n",
    "        \n",
    "        name = []\n",
    "        \n",
    "        for id_name in files_batch:\n",
    "            name.append(id_name)\n",
    "        \n",
    "        return name\n",
    "\n",
    "    def on_epoch_end(self):\n",
    "        pass\n",
    "    \n",
    "    def __len__(self):\n",
    "        return int(np.ceil(len(self.ids)/float(self.batch_size)))"
   ]
  },
  {
   "cell_type": "markdown",
   "metadata": {},
   "source": [
    "## Hyperparameters"
   ]
  },
  {
   "cell_type": "code",
   "execution_count": null,
   "metadata": {},
   "outputs": [],
   "source": [
    "image_size = 256\n",
    "\n",
    "#select dataset:\n",
    "sel_dat = \"Dataset_compressed_256\"\n",
    "#sel_dat = \"Dataset_compressed_512\"\n",
    "#sel_dat = \"Dataset_compressed_1024\"\n",
    "#sel_dat = \"Dataset_Nei\"\n",
    "\n",
    "train_path = \"dataset/\" + sel_dat + \"/Segmentazione/ISIC2018_Task1-2_Training_Input\"\n",
    "gt_path = \"dataset/\" + sel_dat + \"/Segmentazione/ISIC2018_Task1_Training_GroundTruth\"\n",
    "epochs = 15\n",
    "batch_size = 24\n",
    "\n",
    "## Training Ids\n",
    "train_ids = next(os.walk(train_path))\n",
    "train_ids = train_ids[2:][0]\n",
    "random.shuffle(train_ids)\n",
    "\n",
    "## Validation Data Size\n",
    "val_data_size = 24*3\n",
    "train_data_size = len(train_ids)-val_data_size\n",
    "#train_data_size = 600\n",
    "\n",
    "valid_ids = train_ids[:val_data_size]\n",
    "train_ids = train_ids[val_data_size:][:train_data_size]\n",
    "\n",
    "print(\"# of training IDs: \" + str(len(train_ids)))\n",
    "print(\"# of validation IDs: \" + str(len(valid_ids)))"
   ]
  },
  {
   "cell_type": "code",
   "execution_count": null,
   "metadata": {},
   "outputs": [],
   "source": [
    "# X is input image, Y input mask. The Data generator returns a tensor of [batch_size] images,\n",
    "# with resolution [image_size], each with 3 color channels. Masks only have 1 color channel\n",
    "\n",
    "gen = DataGen(train_ids, train_path, gt_path, batch_size=batch_size, image_size=image_size)\n",
    "x, y = gen.__getitem__(0)\n",
    "\n",
    "print(x.shape, y.shape)"
   ]
  },
  {
   "cell_type": "code",
   "execution_count": null,
   "metadata": {
    "scrolled": false
   },
   "outputs": [],
   "source": [
    "# display a random preprocessed image and its mask\n",
    "\n",
    "r = random.randint(0, len(x)-1)\n",
    "\n",
    "fig = plt.figure()\n",
    "fig.subplots_adjust(hspace=0.4, wspace=0.4)\n",
    "ax = fig.add_subplot(1, 2, 1)\n",
    "ax.imshow(x[r])\n",
    "ax = fig.add_subplot(1, 2, 2)\n",
    "ax.imshow(np.reshape(y[r], (image_size, image_size)), cmap=\"gray\")"
   ]
  },
  {
   "cell_type": "markdown",
   "metadata": {},
   "source": [
    "## Different Convolutional Blocks"
   ]
  },
  {
   "cell_type": "code",
   "execution_count": null,
   "metadata": {},
   "outputs": [],
   "source": [
    "# See the image of the U-Net at the beginning of the file\n",
    "\n",
    "def down_block(x, filters, kernel_size=(3, 3), padding=\"same\", strides=1):\n",
    "    c = keras.layers.Conv2D(filters, kernel_size, padding=padding, strides=strides, activation=\"relu\")(x)\n",
    "    c = keras.layers.Conv2D(filters, kernel_size, padding=padding, strides=strides, activation=\"relu\")(c)\n",
    "    p = keras.layers.MaxPool2D((2, 2), (2, 2))(c)\n",
    "    return c, p\n",
    "\n",
    "def up_block(x, skip, filters, kernel_size=(3, 3), padding=\"same\", strides=1):\n",
    "    us = keras.layers.UpSampling2D((2, 2))(x)\n",
    "    concat = keras.layers.Concatenate()([us, skip])\n",
    "    c = keras.layers.Conv2D(filters, kernel_size, padding=padding, strides=strides, activation=\"relu\")(concat)\n",
    "    c = keras.layers.Conv2D(filters, kernel_size, padding=padding, strides=strides, activation=\"relu\")(c)\n",
    "    return c\n",
    "\n",
    "def bottleneck(x, filters, kernel_size=(3, 3), padding=\"same\", strides=1):\n",
    "    c = keras.layers.Conv2D(filters, kernel_size, padding=padding, strides=strides, activation=\"relu\")(x)\n",
    "    c = keras.layers.Conv2D(filters, kernel_size, padding=padding, strides=strides, activation=\"relu\")(c)\n",
    "    return c"
   ]
  },
  {
   "cell_type": "markdown",
   "metadata": {},
   "source": [
    "## UNet Model"
   ]
  },
  {
   "cell_type": "code",
   "execution_count": null,
   "metadata": {},
   "outputs": [],
   "source": [
    "def UNet():\n",
    "    f = [16, 32, 64, 128, 256]\n",
    "    inputs = keras.layers.Input((image_size, image_size, 3))\n",
    "    \n",
    "    #down path\n",
    "    p0 = inputs\n",
    "    c1, p1 = down_block(p0, f[0]) #256 -> 128\n",
    "    c2, p2 = down_block(p1, f[1]) #128 -> 64\n",
    "    c3, p3 = down_block(p2, f[2]) #64 -> 32\n",
    "    c4, p4 = down_block(p3, f[3]) #32 -> 16\n",
    "    \n",
    "    #bottleneck\n",
    "    bn = bottleneck(p4, f[4])\n",
    "    \n",
    "    #up path with concat from same level down path\n",
    "    u1 = up_block(bn, c4, f[3]) #16 -> 32\n",
    "    u2 = up_block(u1, c3, f[2]) #32 -> 64\n",
    "    u3 = up_block(u2, c2, f[1]) #64 -> 128\n",
    "    u4 = up_block(u3, c1, f[0]) #128 -> 256\n",
    "    \n",
    "    outputs = keras.layers.Conv2D(1, (1, 1), padding=\"same\", activation=\"sigmoid\")(u4)\n",
    "    model = keras.models.Model(inputs, outputs)\n",
    "    return model"
   ]
  },
  {
   "cell_type": "code",
   "execution_count": null,
   "metadata": {},
   "outputs": [],
   "source": [
    "#dice coefficient implementation\n",
    "from tensorflow.keras import backend as K\n",
    "\n",
    "smooth = 1.\n",
    "# Dice Coefficient to work with Tensorflow\n",
    "def dice_coef(y_true, y_pred):\n",
    "    y_true_f = K.flatten(y_true)\n",
    "    y_pred_f = K.flatten(y_pred)\n",
    "    intersection = K.sum(y_true_f * y_pred_f)\n",
    "    return (2. * intersection + smooth) / (K.sum(y_true_f) + K.sum(y_pred_f) + smooth)\n",
    "\n",
    "# Jaccard Distance to work with Tensorflow\n",
    "\n",
    "def jaccard_distance(y_true, y_pred, smooth = 1):\n",
    "    intersection = K.sum(K.abs(y_true * y_pred), axis=-1)\n",
    "    sum_ = K.sum(K.abs(y_true) + K.abs(y_pred), axis=-1)\n",
    "    jac = (intersection + smooth) / (sum_ - intersection + smooth)\n",
    "    return (jac)\n"
   ]
  },
  {
   "cell_type": "code",
   "execution_count": null,
   "metadata": {
    "scrolled": true
   },
   "outputs": [],
   "source": [
    "model = UNet()\n",
    "model.compile(optimizer=\"adam\", loss=\"binary_crossentropy\", metrics=[\"acc\", dice_coef, jaccard_distance])\n",
    "model.summary()"
   ]
  },
  {
   "cell_type": "markdown",
   "metadata": {},
   "source": [
    "## Training the model"
   ]
  },
  {
   "cell_type": "code",
   "execution_count": null,
   "metadata": {
    "scrolled": false
   },
   "outputs": [],
   "source": [
    "train_gen = DataGen(train_ids, train_path, gt_path, image_size=image_size, batch_size=batch_size)\n",
    "valid_gen = DataGen(valid_ids, train_path, gt_path, image_size=image_size, batch_size=batch_size)\n",
    "\n",
    "train_steps = len(train_ids)//batch_size\n",
    "valid_steps = len(valid_ids)//batch_size\n",
    "\n",
    "model.fit_generator(train_gen, validation_data=valid_gen, steps_per_epoch=train_steps, validation_steps=valid_steps, epochs=epochs)"
   ]
  },
  {
   "cell_type": "markdown",
   "metadata": {},
   "source": [
    "## Testing the model"
   ]
  },
  {
   "cell_type": "code",
   "execution_count": null,
   "metadata": {},
   "outputs": [],
   "source": [
    "## Save the Weights\n",
    "model.save_weights(\"UNetW-\"+ str(image_size)+\".h5\")\n",
    "\n",
    "## Dataset for prediction\n",
    "x1, y1 = valid_gen.__getitem__(0)\n",
    "name = valid_gen.__getitemname__(0)\n",
    "\n",
    "xout = x1;\n",
    "yout = y1;\n",
    "\n",
    "for x in range(1,len(valid_gen)):\n",
    "    xout = np.concatenate((xout, valid_gen.__getitem__(x)[0]))\n",
    "    yout = np.concatenate((yout, valid_gen.__getitem__(x)[1]))\n",
    "    name += valid_gen.__getitemname__(x)\n",
    "\n",
    "result = model.predict(xout)\n",
    "tmp = [];\n",
    "\n",
    "for i in range(0, len(result)):\n",
    "    tmp.append(cv2.threshold(result[i], 0.5, 1, cv2.THRESH_BINARY)[1])\n",
    "\n",
    "result = tmp"
   ]
  },
  {
   "cell_type": "code",
   "execution_count": null,
   "metadata": {
    "scrolled": false
   },
   "outputs": [],
   "source": [
    "op_kernel = np.ones((10,10),np.uint8)\n",
    "cl_kernel = np.ones((20,20),np.uint8)\n",
    "\n",
    "for i in range(0,len(result)):\n",
    "    fig = plt.figure()\n",
    "    fig.subplots_adjust(hspace=0.4, wspace=0.4)\n",
    "    fig.set_size_inches(25, 10.5)\n",
    "    \n",
    "    ax = fig.add_subplot(1, 4, 1)\n",
    "    ax.imshow(xout[i])\n",
    "    ax.imshow(np.reshape(yout[i], (image_size, image_size)), cmap='gray', alpha=0.5) # interpolation='none'\n",
    "    ax.set_title(name[i] + \" img + gnd truth\")\n",
    "    \n",
    "    ax = fig.add_subplot(1, 4, 2)\n",
    "    ax.imshow(np.reshape(result[i], (image_size, image_size)), cmap=\"gray\")\n",
    "    ax.set_title(\"Predicted mask\")\n",
    "    \n",
    "    ax = fig.add_subplot(1, 4, 3)\n",
    "    mod_img = cv2.morphologyEx(result[i], cv2.MORPH_OPEN, op_kernel)\n",
    "    mod_img = cv2.morphologyEx(mod_img, cv2.MORPH_CLOSE, cl_kernel)\n",
    "    #mod_img = mod_img > 0.5\n",
    "    ax.imshow(xout[i])\n",
    "    ax.imshow(np.reshape(mod_img, (image_size, image_size)), alpha=0.5)\n",
    "    ax.set_title(\"Img + Post processed predicted mask\")\n",
    "    \n",
    "    ax = fig.add_subplot(1, 4, 4)\n",
    "    ax.imshow((1 + np.reshape(yout[i], (image_size, image_size))-np.reshape(mod_img, (image_size, image_size)))/2, cmap=\"gray\", vmin=0, vmax=1)\n",
    "    ax.set_title(\"Diff gnd truth, predicted mask\")"
   ]
  }
 ],
 "metadata": {
  "kernelspec": {
   "display_name": "Python 3",
   "language": "python",
   "name": "python3"
  },
  "language_info": {
   "codemirror_mode": {
    "name": "ipython",
    "version": 3
   },
   "file_extension": ".py",
   "mimetype": "text/x-python",
   "name": "python",
   "nbconvert_exporter": "python",
   "pygments_lexer": "ipython3",
   "version": "3.7.3"
  }
 },
 "nbformat": 4,
 "nbformat_minor": 2
}
