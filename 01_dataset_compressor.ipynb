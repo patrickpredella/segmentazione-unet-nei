{
 "cells": [
  {
   "cell_type": "code",
   "execution_count": null,
   "metadata": {},
   "outputs": [],
   "source": [
    "import os\n",
    "import sys\n",
    "import random\n",
    "\n",
    "import numpy as np\n",
    "import cv2"
   ]
  },
  {
   "cell_type": "code",
   "execution_count": null,
   "metadata": {},
   "outputs": [],
   "source": [
    "#Data generator. Can read a dataset of images and masks and can export compressed images.\n",
    "\n",
    "class DataGen():\n",
    "    def __init__(self, ids, path, path2, batch_size=8, image_size=128):\n",
    "        self.ids = ids\n",
    "        self.path = path\n",
    "        self.path2 = path2\n",
    "        self.batch_size = batch_size\n",
    "        self.image_size = image_size\n",
    "        \n",
    "    def __load__(self, id_name):\n",
    "        ## Path\n",
    "        \n",
    "        image_path = os.path.join(self.path, id_name)\n",
    "\n",
    "        mask_path = os.path.join(self.path2, id_name[:-4] + \"_segmentation.png\")\n",
    "        \n",
    "        ## Reading Images\n",
    "        image = cv2.imread(image_path)\n",
    "        image = cv2.resize(image, (self.image_size, self.image_size))\n",
    "        \n",
    "        ## Reading Masks\n",
    "        mask = cv2.imread(mask_path, -1)\n",
    "        mask = cv2.resize(mask, (self.image_size, self.image_size))\n",
    "        mask = np.expand_dims(mask, axis=-1)\n",
    "        mask = np.maximum(mask, mask)\n",
    "        \n",
    "        ## Normalizaing \n",
    "        image = image/255.0\n",
    "        mask = mask/255.0\n",
    "        \n",
    "        return image, mask\n",
    "    \n",
    "    def __saveitem__(self, id_name, location):\n",
    "        _img, _mask = self.__load__(id_name)\n",
    "        cv2.imwrite('dataset/'+location+'/Segmentazione/ISIC2018_Task1-2_Training_Input/' + id_name, _img*255)\n",
    "        cv2.imwrite('dataset/'+location+'/Segmentazione/ISIC2018_Task1_Training_GroundTruth/' + id_name[:-4] + \"_segmentation.png\", _mask*255)\n"
   ]
  },
  {
   "cell_type": "code",
   "execution_count": null,
   "metadata": {},
   "outputs": [],
   "source": [
    "image_size = 256\n",
    "\n",
    "# Select dataset\n",
    "sel_dat = \"Dataset_Nei\"\n",
    "\n",
    "train_path = \"dataset/\" + sel_dat + \"/Segmentazione/ISIC2018_Task1-2_Training_Input\"\n",
    "gt_path = \"dataset/\" + sel_dat + \"/Segmentazione/ISIC2018_Task1_Training_GroundTruth\"\n",
    "\n",
    "# Training Ids\n",
    "img_ids = next(os.walk(train_path))\n",
    "img_ids = img_ids[2:][0]\n",
    "gt_ids = next(os.walk(gt_path))\n",
    "gt_ids = gt_ids[2:][0]\n",
    "\n",
    "gen = DataGen(img_ids, train_path, gt_path, batch_size=1, image_size=image_size)"
   ]
  },
  {
   "cell_type": "code",
   "execution_count": null,
   "metadata": {},
   "outputs": [],
   "source": [
    "#create the directory tree if it doesn't exist\n",
    "\n",
    "directory = \"dataset/Dataset_compressed_\" + str(image_size)\n",
    "\n",
    "try:\n",
    "    os.stat(directory)\n",
    "except:\n",
    "    os.mkdir(directory)\n",
    "    os.mkdir(directory + \"/Segmentazione\")\n",
    "    os.mkdir(directory + \"/Segmentazione/ISIC2018_Task1-2_Training_Input\")\n",
    "    os.mkdir(directory + \"/Segmentazione/ISIC2018_Task1_Training_GroundTruth\")\n"
   ]
  },
  {
   "cell_type": "code",
   "execution_count": null,
   "metadata": {},
   "outputs": [],
   "source": [
    "#saves a the dataset in the /Dataset_compressed_[size] folder. Size depending on image_size\n",
    "\n",
    "for i in range(0,len(img_ids)):\n",
    "    if img_ids[i][:-4]+\"_segmentation.png\" in gt_ids:\n",
    "        gen.__saveitem__(img_ids[i], \"Dataset_compressed_\" + str(image_size))\n",
    "    else:\n",
    "        text = \"could not save \" + img_ids[i]\n",
    "        print(img_ids[i])"
   ]
  }
 ],
 "metadata": {
  "kernelspec": {
   "display_name": "Python 3",
   "language": "python",
   "name": "python3"
  },
  "language_info": {
   "codemirror_mode": {
    "name": "ipython",
    "version": 3
   },
   "file_extension": ".py",
   "mimetype": "text/x-python",
   "name": "python",
   "nbconvert_exporter": "python",
   "pygments_lexer": "ipython3",
   "version": "3.7.3"
  }
 },
 "nbformat": 4,
 "nbformat_minor": 2
}
